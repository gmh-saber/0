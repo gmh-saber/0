{
  "cells": [
    {
      "cell_type": "markdown",
      "metadata": {
        "id": "view-in-github",
        "colab_type": "text"
      },
      "source": [
        "<a href=\"https://colab.research.google.com/github/GolamMuktadirHossainSaber/0/blob/main/aria2_rpc.ipynb\" target=\"_parent\"><img src=\"https://colab.research.google.com/assets/colab-badge.svg\" alt=\"Open In Colab\"/></a>"
      ]
    },
    {
      "cell_type": "markdown",
      "metadata": {
        "id": "GUleZtaDSRX4"
      },
      "source": [
        "#[aria2](https://aria2.github.io) rpc behind [cloudflared](https://github.com/cloudflare/cloudflared) reverse proxy"
      ]
    },
    {
      "cell_type": "markdown",
      "metadata": {
        "id": "SjzJT4AXd3xw"
      },
      "source": [
        "####Instruction:\n",
        "1. Run the first script, you will get **trycloudflare** link, copy that\n",
        "2. Open [AriaNg](https://ariang.mayswind.net/latest) go to **AriaNg Settings** > **RPC** tab, paste link inside **RPC Address**, change **:6800** to **:443**\n",
        "3. Change **RPC Protocol** to **WebSocket (Security)**, then enter the **RPC Secret Token** `88888888`\n",
        "4. Click **Reload AriaNg**, after that you can see the **Aria2 Status Connected**, you can start downloading now\n",
        "5. When you're done, stop the first script  then run the second script to move your downloaded files to your Google Drive"
      ]
    },
    {
      "cell_type": "markdown",
      "metadata": {
        "id": "ifu8IhxbYYKh"
      },
      "source": [
        "###1. Install prerequisite and run it"
      ]
    },
    {
      "cell_type": "code",
      "execution_count": null,
      "metadata": {
        "id": "ENlMgiuZSMSr",
        "collapsed": true
      },
      "outputs": [],
      "source": [
        "#@title\n",
        "### download, install and start aria2 daemon ###\n",
        "!wget -c https://github.com/DevonTM/aria2-rpc-colab/releases/download/1.36.0/aria2-1.36.0-linux-x86_64.tar.gz -O aria2.tar.gz\n",
        "!tar xf aria2.tar.gz\n",
        "!rm aria2.tar.gz\n",
        "!mv aria2c /usr/local/bin/\n",
        "!mkdir -p downloads\n",
        "!aria2c --enable-rpc=true --rpc-secret=88888888 --daemon=true --file-allocation=none --seed-time=0 --show-files=true --http-accept-gzip=true --bt-enable-lpd=true --disable-ipv6=true --dir=/content/downloads\n",
        "\n",
        "### download, install and start cloudflared tunnel ###\n",
        "!wget -c https://github.com/cloudflare/cloudflared/releases/latest/download/cloudflared-linux-amd64.deb\n",
        "!dpkg -i cloudflared-linux-amd64.deb\n",
        "!cloudflared tunnel --url localhost:6800"
      ]
    },
    {
      "cell_type": "markdown",
      "metadata": {
        "id": "Zp3iT9N5Yy92"
      },
      "source": [
        "###2. Move downloaded files to google drive"
      ]
    },
    {
      "cell_type": "code",
      "execution_count": 1,
      "metadata": {
        "id": "WHOpo9cLZDwL",
        "colab": {
          "base_uri": "https://localhost:8080/"
        },
        "outputId": "cd112708-b09d-4957-c4d1-36331652e4b7"
      },
      "outputs": [
        {
          "output_type": "stream",
          "name": "stdout",
          "text": [
            "Mounted at /content/gdrive/\n"
          ]
        }
      ],
      "source": [
        "from google.colab import drive\n",
        "drive.mount('/content/gdrive/', force_remount=True)\n",
        "!mkdir -p gdrive/MyDrive/downloads"
      ]
    },
    {
      "cell_type": "code",
      "source": [
        "!mv -f -v downloads/* /content/gdrive/Shareddrives/AnimeFreak"
      ],
      "metadata": {
        "colab": {
          "base_uri": "https://localhost:8080/"
        },
        "id": "tmEf10Fm6dD0",
        "outputId": "2e63489f-7f91-42af-a5b1-afa7c670419d"
      },
      "execution_count": 3,
      "outputs": [
        {
          "output_type": "stream",
          "name": "stdout",
          "text": [
            "created directory '/content/gdrive/Shareddrives/AnimeFreak/[BDremux] One Piece Movies Collection'\n",
            "created directory '/content/gdrive/Shareddrives/AnimeFreak/[BDremux] One Piece Movies Collection/.ipynb_checkpoints'\n",
            "copied 'downloads/[BDremux] One Piece Movies Collection/[Samir755] One Piece Movie 14 (2019) - Stampede.mkv' -> '/content/gdrive/Shareddrives/AnimeFreak/[BDremux] One Piece Movies Collection/[Samir755] One Piece Movie 14 (2019) - Stampede.mkv'\n",
            "removed directory 'downloads/[BDremux] One Piece Movies Collection/.ipynb_checkpoints'\n",
            "removed 'downloads/[BDremux] One Piece Movies Collection/[Samir755] One Piece Movie 14 (2019) - Stampede.mkv'\n",
            "removed directory 'downloads/[BDremux] One Piece Movies Collection'\n"
          ]
        }
      ]
    },
    {
      "cell_type": "markdown",
      "source": [
        "# Uninstall and install gdown."
      ],
      "metadata": {
        "id": "iOK22QUoB6kP"
      }
    },
    {
      "cell_type": "code",
      "source": [
        "!pip uninstall gdown -y && pip install gdown\n",
        "!gdown -V"
      ],
      "metadata": {
        "id": "CJX47-ULz12O"
      },
      "execution_count": null,
      "outputs": []
    },
    {
      "cell_type": "markdown",
      "source": [
        "# Download files from direct link to a specific folder in colab."
      ],
      "metadata": {
        "id": "SrZkTea-9DsS"
      }
    },
    {
      "cell_type": "code",
      "source": [
        "!gdown https://abdullah.al-noman.workers.dev/0:/86%20S01+SP%201080p%20Dual%20Audio%20BD%20Remux%20FLAC-TTGA.zip -O /content/gdrive/MyDrive/torrents/"
      ],
      "metadata": {
        "colab": {
          "base_uri": "https://localhost:8080/"
        },
        "id": "GRW5lxpxz8x8",
        "outputId": "f51e4cd6-9abd-4e57-dc66-df0dd9c7331d"
      },
      "execution_count": 20,
      "outputs": [
        {
          "output_type": "stream",
          "name": "stdout",
          "text": [
            "Downloading...\n",
            "From: https://abdullah.al-noman.workers.dev/0:/86%20S01+SP%201080p%20Dual%20Audio%20BD%20Remux%20FLAC-TTGA.zip\n",
            "To: /content/gdrive/MyDrive/torrents/86%20S01+SP%201080p%20Dual%20Audio%20BD%20Remux%20FLAC-TTGA.zip\n",
            "100% 74.4G/74.4G [13:14<00:00, 93.6MB/s]\n"
          ]
        }
      ]
    },
    {
      "cell_type": "markdown",
      "source": [
        "#If you want to see what's in the zip file.(optional)\n"
      ],
      "metadata": {
        "id": "A8EYHqibF0Up"
      }
    },
    {
      "cell_type": "code",
      "source": [
        "!unzip -l /content/gdrive/MyDrive/torrents/86%20S01+SP%201080p%20Dual%20Audio%20BD%20Remux%20FLAC-TTGA.zip"
      ],
      "metadata": {
        "id": "giQ9g5md21MQ"
      },
      "execution_count": null,
      "outputs": []
    },
    {
      "cell_type": "markdown",
      "source": [
        "#Unzip any zip\n"
      ],
      "metadata": {
        "id": "qyZkoL0SGVqj"
      }
    },
    {
      "cell_type": "code",
      "source": [
        "!unzip /content/gdrive/MyDrive/torrents/86%20S01+SP%201080p%20Dual%20Audio%20BD%20Remux%20FLAC-TTGA.zip -d /content/gdrive/MyDrive/unzipped/"
      ],
      "metadata": {
        "colab": {
          "base_uri": "https://localhost:8080/"
        },
        "id": "yLnv5hikGcFX",
        "outputId": "944f479a-8ef6-4bbd-fc1a-0bc9702935d6"
      },
      "execution_count": 23,
      "outputs": [
        {
          "output_type": "stream",
          "name": "stdout",
          "text": [
            "Archive:  /content/gdrive/MyDrive/torrents/86%20S01+SP%201080p%20Dual%20Audio%20BD%20Remux%20FLAC-TTGA.zip\n",
            "   creating: /content/gdrive/MyDrive/unzipped/86 S01+SP 1080p Dual Audio BD Remux FLAC-TTGA/\n",
            " extracting: /content/gdrive/MyDrive/unzipped/86 S01+SP 1080p Dual Audio BD Remux FLAC-TTGA/S01E01-Undertaker.mkv  \n",
            " extracting: /content/gdrive/MyDrive/unzipped/86 S01+SP 1080p Dual Audio BD Remux FLAC-TTGA/S01E02-Spearhead.mkv  \n",
            " extracting: /content/gdrive/MyDrive/unzipped/86 S01+SP 1080p Dual Audio BD Remux FLAC-TTGA/S01E03-I Don't Want to Die.mkv  \n",
            " extracting: /content/gdrive/MyDrive/unzipped/86 S01+SP 1080p Dual Audio BD Remux FLAC-TTGA/S01E04-Real Name.mkv  \n",
            " extracting: /content/gdrive/MyDrive/unzipped/86 S01+SP 1080p Dual Audio BD Remux FLAC-TTGA/S01E05-I'm With You.mkv  \n",
            " extracting: /content/gdrive/MyDrive/unzipped/86 S01+SP 1080p Dual Audio BD Remux FLAC-TTGA/S01E06-Through to the End.mkv  \n",
            " extracting: /content/gdrive/MyDrive/unzipped/86 S01+SP 1080p Dual Audio BD Remux FLAC-TTGA/S01E07-Will You Remember Me.mkv  \n",
            " extracting: /content/gdrive/MyDrive/unzipped/86 S01+SP 1080p Dual Audio BD Remux FLAC-TTGA/S01E08-Let's Go.mkv  \n",
            " extracting: /content/gdrive/MyDrive/unzipped/86 S01+SP 1080p Dual Audio BD Remux FLAC-TTGA/S01E09-Goodbye.mkv  \n",
            " extracting: /content/gdrive/MyDrive/unzipped/86 S01+SP 1080p Dual Audio BD Remux FLAC-TTGA/S01E10-Thank You.mkv  \n",
            " extracting: /content/gdrive/MyDrive/unzipped/86 S01+SP 1080p Dual Audio BD Remux FLAC-TTGA/S01E11-Here We Go.mkv  \n",
            " extracting: /content/gdrive/MyDrive/unzipped/86 S01+SP 1080p Dual Audio BD Remux FLAC-TTGA/S01E11.5 [SP]-The Poppies Bloom Red on the Battlefield.mkv  \n",
            " extracting: /content/gdrive/MyDrive/unzipped/86 S01+SP 1080p Dual Audio BD Remux FLAC-TTGA/S01ED-Avid [SawanoHiroyuki(nZk)_mizuki].mkv  \n",
            " extracting: /content/gdrive/MyDrive/unzipped/86 S01+SP 1080p Dual Audio BD Remux FLAC-TTGA/S01OP-3-pun 29-byou [Hitorie].mkv  \n"
          ]
        }
      ]
    },
    {
      "cell_type": "markdown",
      "source": [
        "#Copy and remove every subfolder and it's contents recursively."
      ],
      "metadata": {
        "id": "TRHbWJM58brb"
      }
    },
    {
      "cell_type": "code",
      "source": [
        "!cp -r -f -v /content/gdrive/MyDrive/unzipped/* \"/content/gdrive/Shareddrives/AnimeFreak\"\n",
        "!rm -r -f -v /content/gdrive/MyDrive/unzipped/*"
      ],
      "metadata": {
        "id": "HBZ9IPz64HFB"
      },
      "execution_count": null,
      "outputs": []
    },
    {
      "cell_type": "markdown",
      "source": [
        "#Remove a non empty directory."
      ],
      "metadata": {
        "id": "j5_9hrSFGAHw"
      }
    },
    {
      "cell_type": "code",
      "source": [
        "!rm -r downloads/*"
      ],
      "metadata": {
        "id": "c8ZhEP6iFcRV"
      },
      "execution_count": 21,
      "outputs": []
    }
  ],
  "metadata": {
    "colab": {
      "provenance": [],
      "include_colab_link": true
    },
    "kernelspec": {
      "display_name": "Python 3",
      "name": "python3"
    },
    "language_info": {
      "name": "python"
    }
  },
  "nbformat": 4,
  "nbformat_minor": 0
}